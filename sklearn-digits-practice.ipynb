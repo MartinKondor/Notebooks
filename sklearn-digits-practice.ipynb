{
 "cells": [
  {
   "cell_type": "code",
   "execution_count": 1,
   "id": "administrative-florist",
   "metadata": {},
   "outputs": [
    {
     "name": "stdout",
     "output_type": "stream",
     "text": [
      ".. _digits_dataset:\n",
      "\n",
      "Optical recognition of handwritten digits dataset\n",
      "--------------------------------------------------\n",
      "\n",
      "**Data Set Characteristics:**\n",
      "\n",
      "    :Number of Instances: 1797\n",
      "    :Number of Attributes: 64\n",
      "    :Attribute Information: 8x8 image of integer pixels in the range 0..16.\n",
      "    :Missing Attribute Values: None\n",
      "    :Creator: E. Alpaydin (alpaydin '@' boun.edu.tr)\n",
      "    :Date: July; 1998\n",
      "\n",
      "This is a copy of the test set of the UCI ML hand-written digits datasets\n",
      "https://archive.ics.uci.edu/ml/datasets/Optical+Recognition+of+Handwritten+Digits\n",
      "\n",
      "The data set contains images of hand-written digits: 10 classes where\n",
      "each class refers to a digit.\n",
      "\n",
      "Preprocessing programs made available by NIST were used to extract\n",
      "normalized bitmaps of handwritten digits from a preprinted form. From a\n",
      "total of 43 people, 30 contributed to the training set and different 13\n",
      "to the test set. 32x32 bitmaps are divided into nonoverlapping blocks of\n",
      "4x4 and the number of on pixels are counted in each block. This generates\n",
      "an input matrix of 8x8 where each element is an integer in the range\n",
      "0..16. This reduces dimensionality and gives invariance to small\n",
      "distortions.\n",
      "\n",
      "For info on NIST preprocessing routines, see M. D. Garris, J. L. Blue, G.\n",
      "T. Candela, D. L. Dimmick, J. Geist, P. J. Grother, S. A. Janet, and C.\n",
      "L. Wilson, NIST Form-Based Handprint Recognition System, NISTIR 5469,\n",
      "1994.\n",
      "\n",
      ".. topic:: References\n",
      "\n",
      "  - C. Kaynak (1995) Methods of Combining Multiple Classifiers and Their\n",
      "    Applications to Handwritten Digit Recognition, MSc Thesis, Institute of\n",
      "    Graduate Studies in Science and Engineering, Bogazici University.\n",
      "  - E. Alpaydin, C. Kaynak (1998) Cascading Classifiers, Kybernetika.\n",
      "  - Ken Tang and Ponnuthurai N. Suganthan and Xi Yao and A. Kai Qin.\n",
      "    Linear dimensionalityreduction using relevance weighted LDA. School of\n",
      "    Electrical and Electronic Engineering Nanyang Technological University.\n",
      "    2005.\n",
      "  - Claudio Gentile. A New Approximate Maximal Margin Classification\n",
      "    Algorithm. NIPS. 2000.\n",
      "\n"
     ]
    }
   ],
   "source": [
    "from sklearn.datasets import load_digits\n",
    "\n",
    "data = load_digits()\n",
    "print(data[\"DESCR\"])"
   ]
  },
  {
   "cell_type": "code",
   "execution_count": 2,
   "id": "linear-orbit",
   "metadata": {},
   "outputs": [
    {
     "data": {
      "text/plain": [
       "((1797, 64), (1797,))"
      ]
     },
     "execution_count": 2,
     "metadata": {},
     "output_type": "execute_result"
    }
   ],
   "source": [
    "import numpy as np\n",
    "\n",
    "data.data.shape, data.target.shape"
   ]
  },
  {
   "cell_type": "code",
   "execution_count": 3,
   "id": "optional-minnesota",
   "metadata": {},
   "outputs": [
    {
     "data": {
      "text/plain": [
       "(1797, 1)"
      ]
     },
     "execution_count": 3,
     "metadata": {},
     "output_type": "execute_result"
    }
   ],
   "source": [
    "y = data.target.reshape(-1,1)\n",
    "y.shape"
   ]
  },
  {
   "cell_type": "code",
   "execution_count": 4,
   "id": "realistic-valentine",
   "metadata": {},
   "outputs": [
    {
     "data": {
      "text/plain": [
       "(1797, 8, 8)"
      ]
     },
     "execution_count": 4,
     "metadata": {},
     "output_type": "execute_result"
    }
   ],
   "source": [
    "X = data.data.reshape((1797, 8, 8))\n",
    "X.shape"
   ]
  },
  {
   "cell_type": "markdown",
   "id": "junior-imagination",
   "metadata": {},
   "source": [
    "## Preprocess data"
   ]
  },
  {
   "cell_type": "code",
   "execution_count": 5,
   "id": "unable-columbia",
   "metadata": {},
   "outputs": [
    {
     "data": {
      "text/plain": [
       "((1797, 10), array([1., 0., 0., 0., 0., 0., 0., 0., 0., 0.]))"
      ]
     },
     "execution_count": 5,
     "metadata": {},
     "output_type": "execute_result"
    }
   ],
   "source": [
    "from sklearn.preprocessing import OneHotEncoder\n",
    "\n",
    "y = OneHotEncoder(sparse=False).fit_transform(y)\n",
    "y.shape, y[0]"
   ]
  },
  {
   "cell_type": "code",
   "execution_count": 6,
   "id": "interesting-frontier",
   "metadata": {},
   "outputs": [
    {
     "data": {
      "text/plain": [
       "array([[0.        , 0.        , 0.09024036, 0.23462493, 0.16243265,\n",
       "        0.01804807, 0.        , 0.        ],\n",
       "       [0.        , 0.        , 0.23462493, 0.27072108, 0.18048072,\n",
       "        0.27072108, 0.09024036, 0.        ],\n",
       "       [0.        , 0.05414422, 0.27072108, 0.03609614, 0.        ,\n",
       "        0.19852879, 0.14438458, 0.        ],\n",
       "       [0.        , 0.07219229, 0.21657686, 0.        , 0.        ,\n",
       "        0.14438458, 0.14438458, 0.        ],\n",
       "       [0.        , 0.09024036, 0.14438458, 0.        , 0.        ,\n",
       "        0.16243265, 0.14438458, 0.        ],\n",
       "       [0.        , 0.07219229, 0.19852879, 0.        , 0.01804807,\n",
       "        0.21657686, 0.1263365 , 0.        ],\n",
       "       [0.        , 0.03609614, 0.25267301, 0.09024036, 0.18048072,\n",
       "        0.21657686, 0.        , 0.        ],\n",
       "       [0.        , 0.        , 0.10828843, 0.23462493, 0.18048072,\n",
       "        0.        , 0.        , 0.        ]])"
      ]
     },
     "execution_count": 6,
     "metadata": {},
     "output_type": "execute_result"
    }
   ],
   "source": [
    "from sklearn.preprocessing import Normalizer\n",
    "\n",
    "X = Normalizer().fit_transform(X.reshape((1797, 64,)))\n",
    "X = X.reshape((1797, 8, 8,))\n",
    "X[0]"
   ]
  },
  {
   "cell_type": "code",
   "execution_count": 7,
   "id": "separate-newark",
   "metadata": {},
   "outputs": [
    {
     "data": {
      "text/plain": [
       "((1617, 8, 8), (180, 8, 8), (1617, 10), (180, 10))"
      ]
     },
     "execution_count": 7,
     "metadata": {},
     "output_type": "execute_result"
    }
   ],
   "source": [
    "from sklearn.model_selection import train_test_split\n",
    "\n",
    "xtrain, xtest, ytrain, ytest = train_test_split(X, y, test_size=0.1)\n",
    "xtrain.shape, xtest.shape, ytrain.shape, ytest.shape"
   ]
  },
  {
   "cell_type": "markdown",
   "id": "least-atlantic",
   "metadata": {},
   "source": [
    "## Building the models"
   ]
  },
  {
   "cell_type": "code",
   "execution_count": 8,
   "id": "fewer-elevation",
   "metadata": {},
   "outputs": [],
   "source": [
    "def load_data(seed=0):\n",
    "    np.random.seed(seed)\n",
    "    data = load_digits()\n",
    "    X = Normalizer().fit_transform(data.data).reshape((1797, 8, 8,))\n",
    "    y = OneHotEncoder(sparse=False).fit_transform(data.target.reshape(-1,1))\n",
    "    xtrain, xtest, ytrain, ytest = train_test_split(X, y, test_size=0.1, random_state=SEED)\n",
    "    return xtrain, xtest, ytrain, ytest"
   ]
  },
  {
   "cell_type": "code",
   "execution_count": 9,
   "id": "sensitive-sarah",
   "metadata": {},
   "outputs": [
    {
     "name": "stderr",
     "output_type": "stream",
     "text": [
      "WARNING:root:Limited tf.compat.v2.summary API due to missing TensorBoard installation.\n",
      "WARNING:root:Limited tf.compat.v2.summary API due to missing TensorBoard installation.\n",
      "WARNING:root:Limited tf.compat.v2.summary API due to missing TensorBoard installation.\n",
      "WARNING:root:Limited tf.summary API due to missing TensorBoard installation.\n"
     ]
    },
    {
     "name": "stdout",
     "output_type": "stream",
     "text": [
      "Model: \"sequential\"\n",
      "_________________________________________________________________\n",
      "Layer (type)                 Output Shape              Param #   \n",
      "=================================================================\n",
      "conv1d (Conv1D)              (None, 5, 64)             2112      \n",
      "_________________________________________________________________\n",
      "max_pooling1d (MaxPooling1D) (None, 2, 64)             0         \n",
      "_________________________________________________________________\n",
      "flatten (Flatten)            (None, 128)               0         \n",
      "_________________________________________________________________\n",
      "dense (Dense)                (None, 10)                1290      \n",
      "=================================================================\n",
      "Total params: 3,402\n",
      "Trainable params: 3,402\n",
      "Non-trainable params: 0\n",
      "_________________________________________________________________\n"
     ]
    }
   ],
   "source": [
    "import keras as k\n",
    "import keras.layers as l\n",
    "\n",
    "\n",
    "def init_model(seed=0):\n",
    "    np.random.seed(seed)\n",
    "    return k.Sequential([\n",
    "        l.Input(shape=(8, 8,)),\n",
    "        l.Conv1D(64, kernel_size=4, activation=\"relu\"),\n",
    "        l.MaxPooling1D(pool_size=2),\n",
    "        l.Flatten(),\n",
    "        l.Dense(10, activation=\"softmax\")\n",
    "    ])\n",
    "\n",
    "\n",
    "init_model().summary()"
   ]
  },
  {
   "cell_type": "code",
   "execution_count": 16,
   "id": "functional-introduction",
   "metadata": {},
   "outputs": [
    {
     "data": {
      "image/png": "[encoded data removed]",
      "text/plain": [
       "<Figure size 576x360 with 1 Axes>"
      ]
     },
     "metadata": {
      "needs_background": "light"
     },
     "output_type": "display_data"
    },
    {
     "name": "stdout",
     "output_type": "stream",
     "text": [
      "6/6 [==============================] - 0s 388us/step - loss: 0.0689 - accuracy: 0.9778\n",
      "Acc.: 0.9777777791023254\n"
     ]
    }
   ],
   "source": [
    "from matplotlib import pyplot as plt\n",
    "import tensorflow as tf\n",
    "\n",
    "\n",
    "def train(seed=0, epochs=190, batch_size=128):\n",
    "    np.random.seed(seed)\n",
    "    xtrain, xtest, ytrain, ytest = load_data(SEED)\n",
    "    model = init_model(SEED)\n",
    "    model.compile(optimizer=\"adam\", metrics=[\"accuracy\"], loss=\"categorical_crossentropy\")\n",
    "    history = model.fit(xtrain, ytrain, batch_size=batch_size, epochs=epochs, validation_split=0.1, verbose=False)\n",
    "    return history, model\n",
    "\n",
    "\n",
    "def plot_history(history):\n",
    "    hy = history.history[\"accuracy\"]\n",
    "    plt.figure(figsize=(8,5))\n",
    "    plt.grid()\n",
    "    plt.plot(range(len(hy)), hy, c=\"g\", linewidth=3)\n",
    "    plt.title(\"Accuracy\")\n",
    "    plt.legend([f\"acc (best={round(np.max(hy), 2)})\"])\n",
    "    plt.show()\n",
    "    \n",
    "\n",
    "SEED = 5\n",
    "np.random.seed(SEED)\n",
    "tf.random.set_seed(SEED)\n",
    "history, model = train(SEED)\n",
    "plot_history(history)\n",
    "loss, acc = model.evaluate(x=xtest, y=ytest)\n",
    "print(\"Acc.:\", acc)"
   ]
  },
  {
   "cell_type": "code",
   "execution_count": null,
   "id": "engaging-camera",
   "metadata": {},
   "outputs": [],
   "source": []
  }
 ],
 "metadata": {
  "kernelspec": {
   "display_name": "Python 3",
   "language": "python",
   "name": "python3"
  },
  "language_info": {
   "codemirror_mode": {
    "name": "ipython",
    "version": 3
   },
   "file_extension": ".py",
   "mimetype": "text/x-python",
   "name": "python",
   "nbconvert_exporter": "python",
   "pygments_lexer": "ipython3",
   "version": "3.8.6"
  }
 },
 "nbformat": 4,
 "nbformat_minor": 5
}
