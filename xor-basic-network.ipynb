{
 "cells": [
  {
   "cell_type": "markdown",
   "id": "structural-manchester",
   "metadata": {},
   "source": [
    "## Basic XOR NN\n",
    "\n",
    "This is a basic network to learn the logic function of xor.\n",
    "\n",
    "__Inputs__: $ e=[i_1, i_2] $ (2 element array with zeros or ones)\n",
    "\n",
    "__Outputs__: $ P(e) $ rounded up (0 or 1, the input expression is true or not)\n"
   ]
  },
  {
   "cell_type": "code",
   "execution_count": 7,
   "id": "concerned-davis",
   "metadata": {},
   "outputs": [
    {
     "name": "stdout",
     "output_type": "stream",
     "text": [
      "(4, 2) (4, 1)\n"
     ]
    }
   ],
   "source": [
    "import numpy as np\n",
    "import matplotlib.pyplot as plt\n",
    "\n",
    "\n",
    "X = np.array([\n",
    "    [0, 0],\n",
    "    [0, 1],\n",
    "    [1, 0],\n",
    "    [1, 1]\n",
    "])\n",
    "\n",
    "y = np.array([[0, 1, 1, 0]]).T\n",
    "\n",
    "print(X.shape, y.shape)"
   ]
  },
  {
   "cell_type": "markdown",
   "id": "decreased-latitude",
   "metadata": {},
   "source": [
    "### Cost function"
   ]
  },
  {
   "cell_type": "code",
   "execution_count": 9,
   "id": "educated-holmes",
   "metadata": {},
   "outputs": [],
   "source": [
    "def cost(y, y_hat):\n",
    "    return 1/(2*len(y)) * np.sum((y - y_hat)**2)\n",
    "\n",
    "def cost_deriv(y, y_hat):\n",
    "    return (y_hat - y)"
   ]
  },
  {
   "cell_type": "markdown",
   "id": "insured-diagram",
   "metadata": {},
   "source": [
    "### Activation function"
   ]
  },
  {
   "cell_type": "code",
   "execution_count": 28,
   "id": "theoretical-vampire",
   "metadata": {},
   "outputs": [
    {
     "data": {
      "image/png": "[encoded data removed]",
      "text/plain": [
       "<Figure size 432x288 with 1 Axes>"
      ]
     },
     "metadata": {
      "needs_background": "light"
     },
     "output_type": "display_data"
    }
   ],
   "source": [
    "def actf(z):\n",
    "    return 1/(1 + np.exp(-z))\n",
    "\n",
    "def actf_deriv(z):\n",
    "    return actf(z) * (1 - actf(z))\n",
    "\n",
    "plot_x = np.arange(-10, 10, 0.1)\n",
    "plt.title('Activation function')\n",
    "plt.grid()\n",
    "plt.plot(plot_x, actf(plot_x), c=\"r\", alpha=0.9, linewidth=3)\n",
    "plt.plot(plot_x, actf_deriv(plot_x), c=\"b\", alpha=0.9, linewidth=3)\n",
    "plt.legend([\"f\", \"df/dx\"])\n",
    "plt.show()"
   ]
  },
  {
   "cell_type": "markdown",
   "id": "wrapped-degree",
   "metadata": {},
   "source": []
  }
 ],
 "metadata": {
  "kernelspec": {
   "display_name": "Python 3",
   "language": "python",
   "name": "python3"
  },
  "language_info": {
   "codemirror_mode": {
    "name": "ipython",
    "version": 3
   },
   "file_extension": ".py",
   "mimetype": "text/x-python",
   "name": "python",
   "nbconvert_exporter": "python",
   "pygments_lexer": "ipython3",
   "version": "3.8.6"
  }
 },
 "nbformat": 4,
 "nbformat_minor": 5
}
