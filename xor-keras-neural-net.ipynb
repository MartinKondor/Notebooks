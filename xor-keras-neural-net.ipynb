{
 "cells": [
  {
   "cell_type": "markdown",
   "id": "former-begin",
   "metadata": {},
   "source": [
    "### XOR neural network with keras"
   ]
  },
  {
   "cell_type": "code",
   "execution_count": 1,
   "id": "numeric-oasis",
   "metadata": {},
   "outputs": [
    {
     "name": "stderr",
     "output_type": "stream",
     "text": [
      "WARNING:root:Limited tf.compat.v2.summary API due to missing TensorBoard installation.\n",
      "WARNING:root:Limited tf.compat.v2.summary API due to missing TensorBoard installation.\n",
      "WARNING:root:Limited tf.compat.v2.summary API due to missing TensorBoard installation.\n",
      "WARNING:root:Limited tf.summary API due to missing TensorBoard installation.\n"
     ]
    },
    {
     "name": "stdout",
     "output_type": "stream",
     "text": [
      "X = (10000, 2) y = (10000, 1)\n"
     ]
    }
   ],
   "source": [
    "import numpy as np\n",
    "import matplotlib.pyplot as plt\n",
    "from tensorflow import keras\n",
    "from tensorflow.keras import layers\n",
    "\n",
    "\n",
    "X_len = 10_000\n",
    "raw_data = []\n",
    "\n",
    "# Generate a lot of training data\n",
    "for _ in range(X_len // 4):\n",
    "    raw_data.append([0,0, 0])\n",
    "    raw_data.append([0,1, 1])\n",
    "    raw_data.append([1,0, 1])\n",
    "    raw_data.append([1,1, 0])\n",
    "\n",
    "\n",
    "X = np.array(raw_data)[:, :2]\n",
    "y = np.array(raw_data)[:, 2].reshape((X_len, 1,))\n",
    "print(\"X =\", X.shape, \"y =\", y.shape)"
   ]
  },
  {
   "cell_type": "code",
   "execution_count": 2,
   "id": "tough-twist",
   "metadata": {},
   "outputs": [
    {
     "name": "stdout",
     "output_type": "stream",
     "text": [
      "[0 0] [0]\n",
      "[0 1] [1]\n",
      "[1 0] [1]\n",
      "[1 1] [0]\n"
     ]
    }
   ],
   "source": [
    "print(X[0], y[0])\n",
    "print(X[1], y[1])\n",
    "print(X[2], y[2])\n",
    "print(X[3], y[3])"
   ]
  },
  {
   "cell_type": "markdown",
   "id": "liquid-tsunami",
   "metadata": {},
   "source": [
    "### Building the model"
   ]
  },
  {
   "cell_type": "code",
   "execution_count": 3,
   "id": "recent-jewelry",
   "metadata": {},
   "outputs": [
    {
     "name": "stdout",
     "output_type": "stream",
     "text": [
      "Model: \"sequential\"\n",
      "_________________________________________________________________\n",
      "Layer (type)                 Output Shape              Param #   \n",
      "=================================================================\n",
      "dense (Dense)                (None, 4)                 12        \n",
      "_________________________________________________________________\n",
      "dense_1 (Dense)              (None, 4)                 20        \n",
      "_________________________________________________________________\n",
      "dense_2 (Dense)              (None, 1)                 5         \n",
      "=================================================================\n",
      "Total params: 37\n",
      "Trainable params: 37\n",
      "Non-trainable params: 0\n",
      "_________________________________________________________________\n"
     ]
    }
   ],
   "source": [
    "def init_model():\n",
    "    return keras.Sequential([\n",
    "        layers.Input(shape=(X.shape[1],)),\n",
    "        layers.Dense(4, activation=\"sigmoid\"),\n",
    "        layers.Dense(4, activation=\"sigmoid\"),\n",
    "        layers.Dense(1, activation=\"sigmoid\")\n",
    "    ])\n",
    "\n",
    "\n",
    "model = init_model()\n",
    "model.summary()"
   ]
  },
  {
   "cell_type": "code",
   "execution_count": 4,
   "id": "dental-toner",
   "metadata": {},
   "outputs": [
    {
     "data": {
      "image/png": "[encoded data removed]",
      "text/plain": [
       "<Figure size 432x288 with 1 Axes>"
      ]
     },
     "metadata": {
      "needs_background": "light"
     },
     "output_type": "display_data"
    },
    {
     "data": {
      "image/png": "[encoded data removed]",
      "text/plain": [
       "<Figure size 432x288 with 1 Axes>"
      ]
     },
     "metadata": {
      "needs_background": "light"
     },
     "output_type": "display_data"
    }
   ],
   "source": [
    "model = init_model()\n",
    "model.compile(loss=\"binary_crossentropy\", optimizer=\"adam\", metrics=[\"accuracy\"])\n",
    "history = model.fit(X, y, batch_size=4, epochs=50, validation_split=0.1, verbose=False)\n",
    "\n",
    "# Plot history\n",
    "plt.grid()\n",
    "plt.title(\"Model Performance History\")\n",
    "plt.plot(history.history['loss'], c=\"r\", linewidth=3)\n",
    "plt.legend([\"loss\"])\n",
    "plt.show()\n",
    "\n",
    "plt.grid()\n",
    "plt.title(\"Model Performance History\")\n",
    "plt.plot(history.history['accuracy'], c=\"g\", linewidth=3)\n",
    "plt.legend([\"accuracy\"])\n",
    "plt.show()"
   ]
  },
  {
   "cell_type": "markdown",
   "id": "reflected-butter",
   "metadata": {},
   "source": [
    "### Tests\n"
   ]
  },
  {
   "cell_type": "code",
   "execution_count": 5,
   "id": "determined-microwave",
   "metadata": {},
   "outputs": [
    {
     "name": "stdout",
     "output_type": "stream",
     "text": [
      "[[1.1641799e-09]\n",
      " [1.0000000e+00]\n",
      " [1.0000000e+00]\n",
      " [9.5846142e-10]]\n",
      "\n",
      "Predicted:\n",
      "[[0.]\n",
      " [1.]\n",
      " [1.]\n",
      " [0.]]\n",
      "\n",
      "Output must be:\n",
      "[[0.]\n",
      " [1.]\n",
      " [1.]\n",
      " [0.]]\n",
      "\n"
     ]
    }
   ],
   "source": [
    "input = np.array([\n",
    "    [0, 0],\n",
    "    [0, 1],\n",
    "    [1, 0],\n",
    "    [1, 1]\n",
    "])\n",
    "output_must_be = np.array([[0., 1., 1., 0.]]).T\n",
    "\n",
    "o = model.predict(input)\n",
    "print(o)\n",
    "print()\n",
    "print(\"Predicted:\")\n",
    "print(np.round(o, 2))\n",
    "print()\n",
    "print(\"Output must be:\")\n",
    "print(output_must_be)\n",
    "print()"
   ]
  },
  {
   "cell_type": "markdown",
   "id": "received-internet",
   "metadata": {},
   "source": [
    "### Conclusions"
   ]
  },
  {
   "cell_type": "markdown",
   "id": "mobile-coating",
   "metadata": {},
   "source": [
    "With less than 7 epochs, it is possible for a specific neural network to learn the XOR function."
   ]
  }
 ],
 "metadata": {
  "kernelspec": {
   "display_name": "Python 3",
   "language": "python",
   "name": "python3"
  },
  "language_info": {
   "codemirror_mode": {
    "name": "ipython",
    "version": 3
   },
   "file_extension": ".py",
   "mimetype": "text/x-python",
   "name": "python",
   "nbconvert_exporter": "python",
   "pygments_lexer": "ipython3",
   "version": "3.8.6"
  }
 },
 "nbformat": 4,
 "nbformat_minor": 5
}
