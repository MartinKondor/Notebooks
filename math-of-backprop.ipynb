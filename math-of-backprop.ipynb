{
 "cells": [
  {
   "cell_type": "markdown",
   "id": "blank-october",
   "metadata": {},
   "source": [
    "## Backpropaganation of error algorithm\n",
    "\n",
    "Cost function for $ a^L $ layer:\n",
    "\n",
    "$ C(a^L) = \\frac{1}{2}\\sum^n_i{(y_i - a^L_i)^2} $\n",
    "\n",
    "Cost function's derivate:\n",
    "\n",
    "$ \\frac{dC}{da^L} = (\\frac{1}{2}((y_0 - a_0^L)^2 + (y_1 - a_1^L)^2 + ... + (y_n- a_n^L)^2))' = \\frac{1}{2}\\sum^n_i{(-2y_i + 2a^l_i)} = \\sum^n_i{(a^l_i + y_i)} $\n",
    "\n",
    "Since\n",
    "\n",
    "$ ((y - a^L)^2)' = (y^2 - 2ya^L + (a^L)^2)' = - 2y + 2a^L = 2a^L - 2y $\n",
    "\n",
    "State that for input size = I, and output size = O:\n",
    "\n",
    "$ X \\in \\mathbb{R}^{n*I} $\n",
    "\n",
    "$ y \\in \\mathbb{Z}^{n*O} $\n",
    "\n",
    "Thus the weights:\n",
    "\n",
    "$ w^{(0)} \\in \\mathbb{R}^{I*k} $\n",
    "\n",
    "$ w^{(1)} \\in \\mathbb{R}^{k*O} $\n",
    "\n",
    "where $ k $ is the layer size.\n",
    "\n",
    "$ z^l = a^{l-1}w^l + b^l $\n",
    "\n",
    "$ a^l = \\sigma(a^{l-1}w^l + b^l) = \\sigma(z^l) $\n",
    "\n",
    "$ \\sigma(z) = \\frac{1}{1 + \\mathbb{e}^{-z}} $\n",
    "\n",
    "## Feedforward\n",
    "\n",
    "1. $ a^0 = \\sigma(Xw^0 + b^0) $\n",
    "\n",
    "2. $ a^1 = \\sigma(a^0w^1 + b^1) $\n",
    "\n",
    "Where then $ a^0 \\in \\mathbb{R}^{(n*k)} $ and $ a^1 \\in \\mathbb{R}^{(k*O)} $.\n",
    "\n",
    "So here $ a^1 $ is the output of the network."
   ]
  },
  {
   "cell_type": "code",
   "execution_count": null,
   "id": "loose-recognition",
   "metadata": {},
   "outputs": [],
   "source": []
  }
 ],
 "metadata": {
  "kernelspec": {
   "display_name": "Python 3",
   "language": "python",
   "name": "python3"
  },
  "language_info": {
   "codemirror_mode": {
    "name": "ipython",
    "version": 3
   },
   "file_extension": ".py",
   "mimetype": "text/x-python",
   "name": "python",
   "nbconvert_exporter": "python",
   "pygments_lexer": "ipython3",
   "version": "3.8.6"
  }
 },
 "nbformat": 4,
 "nbformat_minor": 5
}
